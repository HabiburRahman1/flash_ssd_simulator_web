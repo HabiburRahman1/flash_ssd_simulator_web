{
 "cells": [
  {
   "cell_type": "code",
   "execution_count": 9,
   "metadata": {},
   "outputs": [
    {
     "name": "stdout",
     "output_type": "stream",
     "text": [
      "   std_erase_count  std_invalid_page_count  op    type  ssd_size  waf\n",
      "0              0.0               39.775155  20  ran_s3       2.4  1.0\n",
      "1              0.0               41.093211  20  ran_s3       2.4  1.0\n",
      "2              0.0               42.362494  20  ran_s3       2.4  1.0\n",
      "3              0.0               43.569003  20  ran_s3       2.4  1.0\n",
      "4              0.0               44.655118  20  ran_s3       2.4  1.0\n",
      "    std_erase_count  std_invalid_page_count  op    type  ssd_size       waf\n",
      "11         0.292038               42.800627  20  ran_s3       2.4  1.000241\n",
      "12         0.324189               42.445300  20  ran_s3       2.4  1.000948\n",
      "13         0.353128               42.054365  20  ran_s3       2.4  1.002118\n",
      "14         0.380164               41.673052  20  ran_s3       2.4  1.004076\n",
      "15         0.407500               41.320385  20  ran_s3       2.4  1.006385\n",
      "Coefficients (alpha, beta, gamma): [-0.77479228 -0.55004513 -0.44287559]\n",
      "Intercept (delta): 1.9139089468234054\n",
      "Mean Squared Error: 0.3914377208357126\n",
      "R-squared: 0.694105993362765\n"
     ]
    }
   ],
   "source": [
    "import os\n",
    "import pandas as pd\n",
    "from sklearn.model_selection import train_test_split\n",
    "from sklearn.linear_model import LinearRegression\n",
    "from sklearn.preprocessing import StandardScaler\n",
    "from sklearn.metrics import mean_squared_error, r2_score\n",
    "\n",
    "# Example: Load your dataset\n",
    "# Replace 'your_dataset.csv' with the path to your data file\n",
    "path = '/home/habib/Downloads/equation_train_data/final_data/'\n",
    "files = os.listdir(path)\n",
    "df = pd.DataFrame()\n",
    "for file in files:\n",
    "    if file.endswith('.json'):  # Ensure you're only reading JSON files\n",
    "        read_df = pd.read_json(os.path.join(path, file))\n",
    "        df = pd.concat([df, read_df], ignore_index=True)\n",
    "print(df.head())\n",
    "\n",
    "# Remove all rows have waf = 1\n",
    "df = df[df['waf'] != 1]\n",
    "\n",
    "print(df.head())\n",
    "\n",
    "# df = pd.read_json('/home/habib/Downloads/equation_train_data/final_data/ran_s1_op_20_final_version.json')\n",
    "\n",
    "# Features (independent variables)\n",
    "X = df[['std_invalid_page_count', 'op', 'ssd_size']]  # Ensure these columns exist in your dataset\n",
    "\n",
    "# Target variable (dependent variable)\n",
    "y = df['waf']\n",
    "\n",
    "# Normalize the features\n",
    "scaler = StandardScaler()\n",
    "X_scaled = scaler.fit_transform(X)\n",
    "\n",
    "# Split data into training and testing sets\n",
    "X_train, X_test, y_train, y_test = train_test_split(X_scaled, y, test_size=0.2, random_state=42)\n",
    "\n",
    "# Initialize and train the linear regression model\n",
    "model = LinearRegression()\n",
    "model.fit(X_train, y_train)\n",
    "\n",
    "# Extract coefficients and intercept\n",
    "coefficients = model.coef_  # [alpha, beta, gamma]\n",
    "intercept = model.intercept_  # delta\n",
    "\n",
    "# Display results\n",
    "print(\"Coefficients (alpha, beta, gamma):\", coefficients)\n",
    "print(\"Intercept (delta):\", intercept)\n",
    "\n",
    "# Test the model\n",
    "y_pred = model.predict(X_test)\n",
    "mse = mean_squared_error(y_test, y_pred)\n",
    "r2 = r2_score(y_test, y_pred)\n",
    "\n",
    "print(\"Mean Squared Error:\", mse)\n",
    "print(\"R-squared:\", r2)"
   ]
  },
  {
   "cell_type": "code",
   "execution_count": null,
   "metadata": {},
   "outputs": [],
   "source": []
  }
 ],
 "metadata": {
  "kernelspec": {
   "display_name": "Python 3",
   "language": "python",
   "name": "python3"
  },
  "language_info": {
   "codemirror_mode": {
    "name": "ipython",
    "version": 3
   },
   "file_extension": ".py",
   "mimetype": "text/x-python",
   "name": "python",
   "nbconvert_exporter": "python",
   "pygments_lexer": "ipython3",
   "version": "3.8.10"
  }
 },
 "nbformat": 4,
 "nbformat_minor": 2
}
