{
 "cells": [
  {
   "cell_type": "code",
   "execution_count": 8,
   "metadata": {},
   "outputs": [
    {
     "name": "stdout",
     "output_type": "stream",
     "text": [
      "1908\n",
      "Coefficients (alpha, beta, gamma): [-0.4632034  0.         0.       ]\n",
      "Intercept (delta): 1.497642946816701\n",
      "Mean Squared Error: 0.09492827628461242\n",
      "R-squared: 0.7008995186280078\n"
     ]
    }
   ],
   "source": [
    "import os\n",
    "import pandas as pd\n",
    "from sklearn.model_selection import train_test_split\n",
    "from sklearn.linear_model import LinearRegression\n",
    "from sklearn.preprocessing import StandardScaler\n",
    "from sklearn.metrics import mean_squared_error, r2_score\n",
    "\n",
    "# Example: Load your dataset\n",
    "# Replace 'your_dataset.csv' with the path to your data file\n",
    "path = '/home/habib/Downloads/equation_train_data/final_data/'\n",
    "files = os.listdir(path)\n",
    "df = pd.DataFrame()\n",
    "for file in files:\n",
    "    if file.endswith('.json'):  # Ensure you're only reading JSON files\n",
    "        read_df = pd.read_json(os.path.join(path, file))\n",
    "        df = pd.concat([df, read_df], ignore_index=True)\n",
    "print(len(df))\n",
    "\n",
    "# df = pd.read_json('/home/habib/Downloads/equation_train_data/final_data/ran_s1_op_20_final_version.json')\n",
    "\n",
    "# Features (independent variables)\n",
    "X = df[['std_invalid_page_count', 'op', 'ssd_size']]  # Ensure these columns exist in your dataset\n",
    "\n",
    "# Target variable (dependent variable)\n",
    "y = df['waf']\n",
    "\n",
    "# Normalize the features\n",
    "scaler = StandardScaler()\n",
    "X_scaled = scaler.fit_transform(X)\n",
    "\n",
    "# Split data into training and testing sets\n",
    "X_train, X_test, y_train, y_test = train_test_split(X_scaled, y, test_size=0.2, random_state=42)\n",
    "\n",
    "# Initialize and train the linear regression model\n",
    "model = LinearRegression()\n",
    "model.fit(X_train, y_train)\n",
    "\n",
    "# Extract coefficients and intercept\n",
    "coefficients = model.coef_  # [alpha, beta, gamma]\n",
    "intercept = model.intercept_  # delta\n",
    "\n",
    "# Display results\n",
    "print(\"Coefficients (alpha, beta, gamma):\", coefficients)\n",
    "print(\"Intercept (delta):\", intercept)\n",
    "\n",
    "# Test the model\n",
    "y_pred = model.predict(X_test)\n",
    "mse = mean_squared_error(y_test, y_pred)\n",
    "r2 = r2_score(y_test, y_pred)\n",
    "\n",
    "print(\"Mean Squared Error:\", mse)\n",
    "print(\"R-squared:\", r2)"
   ]
  },
  {
   "cell_type": "code",
   "execution_count": null,
   "metadata": {},
   "outputs": [],
   "source": []
  }
 ],
 "metadata": {
  "kernelspec": {
   "display_name": "Python 3",
   "language": "python",
   "name": "python3"
  },
  "language_info": {
   "codemirror_mode": {
    "name": "ipython",
    "version": 3
   },
   "file_extension": ".py",
   "mimetype": "text/x-python",
   "name": "python",
   "nbconvert_exporter": "python",
   "pygments_lexer": "ipython3",
   "version": "3.8.10"
  }
 },
 "nbformat": 4,
 "nbformat_minor": 2
}
