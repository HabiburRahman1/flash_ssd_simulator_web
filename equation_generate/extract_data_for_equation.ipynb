{
 "cells": [
  {
   "cell_type": "code",
   "execution_count": 14,
   "metadata": {},
   "outputs": [],
   "source": [
    "import matplotlib.pyplot as plt\n",
    "import seaborn as sns\n",
    "import numpy as np\n",
    "import scipy.stats as stats\n",
    "import pandas as pd"
   ]
  },
  {
   "cell_type": "code",
   "execution_count": null,
   "metadata": {},
   "outputs": [],
   "source": [
    "waf_s3_op_20 = pd.read_json('/home/habib/Downloads/equation_train_data/ran_s3_op_20/rand_trace.log_waf.json')"
   ]
  },
  {
   "cell_type": "code",
   "execution_count": 35,
   "metadata": {},
   "outputs": [
    {
     "name": "stdout",
     "output_type": "stream",
     "text": [
      "['rand_trace.log_1099991.json', 'rand_trace.log_1199991.json', 'rand_trace.log_1299991.json', 'rand_trace.log_1399991.json', 'rand_trace.log_1499991.json', 'rand_trace.log_1599991.json', 'rand_trace.log_1699991.json', 'rand_trace.log_1799991.json', 'rand_trace.log_1899991.json', 'rand_trace.log_1999991.json', 'rand_trace.log_2099991.json', 'rand_trace.log_2199991.json', 'rand_trace.log_2299991.json', 'rand_trace.log_2399991.json', 'rand_trace.log_2499991.json', 'rand_trace.log_2599991.json', 'rand_trace.log_2699991.json', 'rand_trace.log_2799991.json', 'rand_trace.log_2899991.json', 'rand_trace.log_2999991.json', 'rand_trace.log_3099991.json', 'rand_trace.log_3199991.json', 'rand_trace.log_3299991.json', 'rand_trace.log_3399991.json', 'rand_trace.log_3499991.json', 'rand_trace.log_3599991.json', 'rand_trace.log_3699991.json', 'rand_trace.log_3799991.json', 'rand_trace.log_3899991.json', 'rand_trace.log_3999991.json', 'rand_trace.log_4099991.json', 'rand_trace.log_4199991.json', 'rand_trace.log_4299991.json', 'rand_trace.log_4399991.json', 'rand_trace.log_4499991.json', 'rand_trace.log_4599991.json', 'rand_trace.log_4699991.json', 'rand_trace.log_4799991.json', 'rand_trace.log_4899991.json', 'rand_trace.log_4999991.json', 'rand_trace.log_5099991.json', 'rand_trace.log_5199991.json', 'rand_trace.log_5299991.json', 'rand_trace.log_5399991.json', 'rand_trace.log_5499991.json', 'rand_trace.log_5599991.json', 'rand_trace.log_5699991.json', 'rand_trace.log_5799991.json', 'rand_trace.log_5899991.json', 'rand_trace.log_5999991.json', 'rand_trace.log_6099991.json', 'rand_trace.log_6199991.json', 'rand_trace.log_6299991.json', 'rand_trace.log_6399991.json', 'rand_trace.log_6499991.json', 'rand_trace.log_6599991.json', 'rand_trace.log_6699991.json', 'rand_trace.log_6799991.json', 'rand_trace.log_6899991.json', 'rand_trace.log_6999991.json', 'rand_trace.log_7099991.json', 'rand_trace.log_7199991.json', 'rand_trace.log_7299991.json', 'rand_trace.log_7399991.json', 'rand_trace.log_7499991.json', 'rand_trace.log_7599991.json', 'rand_trace.log_7699991.json', 'rand_trace.log_7799991.json', 'rand_trace.log_7899991.json', 'rand_trace.log_7999991.json', 'rand_trace.log_8099991.json', 'rand_trace.log_8199991.json', 'rand_trace.log_8299991.json', 'rand_trace.log_8399991.json', 'rand_trace.log_8499991.json', 'rand_trace.log_8599991.json', 'rand_trace.log_8699991.json', 'rand_trace.log_8799991.json', 'rand_trace.log_8899991.json', 'rand_trace.log_8999991.json', 'rand_trace.log_9099991.json', 'rand_trace.log_9199991.json', 'rand_trace.log_9299991.json', 'rand_trace.log_9399991.json', 'rand_trace.log_9499991.json', 'rand_trace.log_9599991.json', 'rand_trace.log_9699991.json', 'rand_trace.log_9799991.json', 'rand_trace.log_9899991.json', 'rand_trace.log_9999991.json', 'rand_trace.log_10099991.json', 'rand_trace.log_10199991.json', 'rand_trace.log_10299991.json', 'rand_trace.log_10399991.json', 'rand_trace.log_10499991.json', 'rand_trace.log_10599991.json', 'rand_trace.log_10699991.json', 'rand_trace.log_10799991.json', 'rand_trace.log_10899991.json', 'rand_trace.log_10999991.json', 'rand_trace.log_11099991.json', 'rand_trace.log_11199991.json', 'rand_trace.log_11299991.json', 'rand_trace.log_11399991.json', 'rand_trace.log_11499991.json', 'rand_trace.log_11599991.json', 'rand_trace.log_11699991.json', 'rand_trace.log_11799991.json', 'rand_trace.log_11899991.json', 'rand_trace.log_11999991.json', 'rand_trace.log_12099991.json', 'rand_trace.log_12199991.json', 'rand_trace.log_12299991.json', 'rand_trace.log_12399991.json', 'rand_trace.log_12499991.json', 'rand_trace.log_12599991.json', 'rand_trace.log_12699991.json', 'rand_trace.log_12799991.json', 'rand_trace.log_12899991.json', 'rand_trace.log_12999991.json', 'rand_trace.log_13099991.json', 'rand_trace.log_13199991.json', 'rand_trace.log_13299991.json', 'rand_trace.log_13399991.json', 'rand_trace.log_13499991.json', 'rand_trace.log_13599991.json', 'rand_trace.log_13699991.json', 'rand_trace.log_13799991.json', 'rand_trace.log_13899991.json', 'rand_trace.log_13999991.json', 'rand_trace.log_14099991.json', 'rand_trace.log_14199991.json', 'rand_trace.log_14299991.json', 'rand_trace.log_14399991.json', 'rand_trace.log_14499991.json', 'rand_trace.log_14599991.json', 'rand_trace.log_14699991.json', 'rand_trace.log_14799991.json', 'rand_trace.log_14899991.json', 'rand_trace.log_14999991.json', 'rand_trace.log_15099991.json', 'rand_trace.log_15199991.json', 'rand_trace.log_15299991.json', 'rand_trace.log_15399991.json', 'rand_trace.log_15499991.json', 'rand_trace.log_15599991.json', 'rand_trace.log_15699991.json']\n"
     ]
    }
   ],
   "source": [
    "# Read all the file in a folder in specific order\n",
    "import os\n",
    "import json\n",
    "\n",
    "path = '/home/habib/Downloads/equation_train_data/ran_s3_op_20/'\n",
    "files = os.listdir(path)\n",
    "# sort the files by number inbetween rand_trace.log_ and .json first take all file containing rand_trace.log_\n",
    "files = [f for f in files if 'rand_trace.log_' in f]\n",
    "# sort the files by number inbetween rand_trace.log_ and .json\n",
    "files = [f for f in files if f.split('rand_trace.log_')[1].split('.json')[0].isdigit()]\n",
    "files.sort(key=lambda x: int(x.split('rand_trace.log_')[1].split('.json')[0]))\n",
    "# print file names\n",
    "print(files)\n",
    "\n",
    "# ran_s3_op_20 = pd.read_json('/home/habib/Downloads/equation_train_data/ran_s3_op_20/rand_trace.log_1099991.json')\n"
   ]
  },
  {
   "cell_type": "code",
   "execution_count": null,
   "metadata": {},
   "outputs": [],
   "source": [
    "# read file one by one using loop \n",
    "ran_s3_op_20_final_version = []\n",
    "for file in files:\n",
    "    interger_value = int(int(file.split('rand_trace.log_')[1].split('.json')[0])/10)\n",
    "    waf_index = interger_value//128\n",
    "    ran_s3_op_20 = pd.read_json(path+file)\n",
    "    ran_s3_op_20_erase_count = ran_s3_op_20.iloc[6].reset_index(drop=True).to_frame(name='erase_count')\n",
    "    ran_s3_op_20_invalid_page_count = ran_s3_op_20.iloc[4].reset_index(drop=True).to_frame(name='invalid_pages')\n",
    "    ran_s3_op_20_erase_count_std = np.std(ran_s3_op_20_erase_count['erase_count'])\n",
    "    ran_s3_op_20_invalid_page_count_std = np.std(ran_s3_op_20_invalid_page_count['invalid_pages'])\n",
    "    final_json = {\n",
    "        'std_erase_count': ran_s3_op_20_erase_count_std,\n",
    "        'std_invalid_page_count': ran_s3_op_20_invalid_page_count_std,\n",
    "        'op': 20,\n",
    "        'type': 'ran_s3',\n",
    "        'ssd_size': 2.4,\n",
    "        'waf': waf_s3_op_20['waf'][waf_index]\n",
    "        }\n",
    "    ran_s3_op_20_final_version.append(final_json)\n",
    "\n",
    "# convert the list to dataframe\n",
    "ran_s3_op_20_final_version = pd.DataFrame(ran_s3_op_20_final_version)\n",
    "# save the dataframe as json\n",
    "ran_s3_op_20_final_version.to_json('/home/habib/Downloads/equation_train_data/ran_s3_op_20/ran_s3_op_20_final_version.json')\n"
   ]
  },
  {
   "cell_type": "code",
   "execution_count": 10,
   "metadata": {},
   "outputs": [],
   "source": [
    "ran_s3_op_20_erase_count = ran_s3_op_20.iloc[6].reset_index(drop=True).to_frame(name='erase_count')\n",
    "ran_s3_op_20_invalid_page_count = ran_s3_op_20.iloc[4].reset_index(drop=True).to_frame(name='invalid_pages')"
   ]
  },
  {
   "cell_type": "code",
   "execution_count": 13,
   "metadata": {},
   "outputs": [
    {
     "data": {
      "text/plain": [
       "13.899919097956163"
      ]
     },
     "execution_count": 13,
     "metadata": {},
     "output_type": "execute_result"
    }
   ],
   "source": [
    "# Find standard distribution\n",
    "ran_s3_op_20_erase_count_std = np.std(ran_s3_op_20_erase_count['erase_count'])\n",
    "ran_s3_op_20_invalid_page_count_std = np.std(ran_s3_op_20_invalid_page_count['invalid_pages'])"
   ]
  },
  {
   "cell_type": "code",
   "execution_count": 12,
   "metadata": {},
   "outputs": [
    {
     "data": {
      "text/html": [
       "<div>\n",
       "<style scoped>\n",
       "    .dataframe tbody tr th:only-of-type {\n",
       "        vertical-align: middle;\n",
       "    }\n",
       "\n",
       "    .dataframe tbody tr th {\n",
       "        vertical-align: top;\n",
       "    }\n",
       "\n",
       "    .dataframe thead th {\n",
       "        text-align: right;\n",
       "    }\n",
       "</style>\n",
       "<table border=\"1\" class=\"dataframe\">\n",
       "  <thead>\n",
       "    <tr style=\"text-align: right;\">\n",
       "      <th></th>\n",
       "      <th>invalid_pages</th>\n",
       "    </tr>\n",
       "  </thead>\n",
       "  <tbody>\n",
       "    <tr>\n",
       "      <th>0</th>\n",
       "      <td>28</td>\n",
       "    </tr>\n",
       "    <tr>\n",
       "      <th>1</th>\n",
       "      <td>0</td>\n",
       "    </tr>\n",
       "    <tr>\n",
       "      <th>2</th>\n",
       "      <td>19</td>\n",
       "    </tr>\n",
       "    <tr>\n",
       "      <th>3</th>\n",
       "      <td>0</td>\n",
       "    </tr>\n",
       "    <tr>\n",
       "      <th>4</th>\n",
       "      <td>20</td>\n",
       "    </tr>\n",
       "    <tr>\n",
       "      <th>...</th>\n",
       "      <td>...</td>\n",
       "    </tr>\n",
       "    <tr>\n",
       "      <th>6139</th>\n",
       "      <td>17</td>\n",
       "    </tr>\n",
       "    <tr>\n",
       "      <th>6140</th>\n",
       "      <td>26</td>\n",
       "    </tr>\n",
       "    <tr>\n",
       "      <th>6141</th>\n",
       "      <td>0</td>\n",
       "    </tr>\n",
       "    <tr>\n",
       "      <th>6142</th>\n",
       "      <td>0</td>\n",
       "    </tr>\n",
       "    <tr>\n",
       "      <th>6143</th>\n",
       "      <td>0</td>\n",
       "    </tr>\n",
       "  </tbody>\n",
       "</table>\n",
       "<p>6144 rows × 1 columns</p>\n",
       "</div>"
      ],
      "text/plain": [
       "     invalid_pages\n",
       "0               28\n",
       "1                0\n",
       "2               19\n",
       "3                0\n",
       "4               20\n",
       "...            ...\n",
       "6139            17\n",
       "6140            26\n",
       "6141             0\n",
       "6142             0\n",
       "6143             0\n",
       "\n",
       "[6144 rows x 1 columns]"
      ]
     },
     "execution_count": 12,
     "metadata": {},
     "output_type": "execute_result"
    }
   ],
   "source": [
    "# Save data to csv file for further analysis\n",
    "final_json = {\n",
    "    'std_erase_count': ran_s3_op_20_erase_count_std,\n",
    "    'std_invalid_page_count': ran_s3_op_20_invalid_page_count_std,\n",
    "    'op': 20,\n",
    "    'type': 'ran_s3',\n",
    "    'ssd_size': 2.4,\n",
    "    'waf': 1.0\n",
    "}"
   ]
  },
  {
   "cell_type": "code",
   "execution_count": 20,
   "metadata": {},
   "outputs": [
    {
     "data": {
      "text/plain": [
       "78.125"
      ]
     },
     "execution_count": 20,
     "metadata": {},
     "output_type": "execute_result"
    }
   ],
   "source": [
    "10000/128"
   ]
  },
  {
   "cell_type": "code",
   "execution_count": 40,
   "metadata": {},
   "outputs": [
    {
     "data": {
      "text/plain": [
       "12313.5078125"
      ]
     },
     "execution_count": 40,
     "metadata": {},
     "output_type": "execute_result"
    }
   ],
   "source": [
    "1576129/128"
   ]
  },
  {
   "cell_type": "code",
   "execution_count": null,
   "metadata": {},
   "outputs": [],
   "source": []
  }
 ],
 "metadata": {
  "kernelspec": {
   "display_name": "Python 3",
   "language": "python",
   "name": "python3"
  },
  "language_info": {
   "codemirror_mode": {
    "name": "ipython",
    "version": 3
   },
   "file_extension": ".py",
   "mimetype": "text/x-python",
   "name": "python",
   "nbconvert_exporter": "python",
   "pygments_lexer": "ipython3",
   "version": "3.8.10"
  }
 },
 "nbformat": 4,
 "nbformat_minor": 2
}
