{
 "cells": [
  {
   "cell_type": "code",
   "execution_count": 7,
   "metadata": {},
   "outputs": [],
   "source": [
    "import pandas as pd\n",
    "\n",
    "file_path = '../../real_data/trace/W2K8.TPCC.10-19-2007.12-51-PM.trace-filtered-target.txt'"
   ]
  },
  {
   "cell_type": "code",
   "execution_count": 8,
   "metadata": {},
   "outputs": [
    {
     "name": "stdout",
     "output_type": "stream",
     "text": [
      "5899528\n",
      "   ByteOffset  IOSize\n",
      "0  3201773568    8192\n",
      "1  3155169280    4096\n",
      "2  3155156992    4096\n",
      "3  3161305088    8192\n",
      "4  3154132992    4096\n"
     ]
    }
   ],
   "source": [
    "#  read the file\n",
    "trace = pd.read_csv(file_path, sep=' ')\n",
    "trace.columns = ['ByteOffset', 'IOSize']\n",
    "print(len(trace))\n",
    "print(trace.head())"
   ]
  },
  {
   "cell_type": "code",
   "execution_count": 9,
   "metadata": {},
   "outputs": [
    {
     "name": "stdout",
     "output_type": "stream",
     "text": [
      "100000\n",
      "200000\n",
      "300000\n",
      "400000\n",
      "500000\n",
      "600000\n",
      "700000\n",
      "800000\n",
      "900000\n",
      "1000000\n",
      "1100000\n",
      "1200000\n",
      "1300000\n",
      "1400000\n",
      "1500000\n",
      "1600000\n",
      "   ByteOffset  IOSize\n",
      "0  3201773568      16\n",
      "1  3155169280       8\n",
      "2  3155156992       8\n",
      "3  3161305088      16\n",
      "4  3154132992       8\n"
     ]
    }
   ],
   "source": [
    "# declare dataframe variable to store converted trace\n",
    "converted_trace = pd.DataFrame(columns=['ByteOffset', 'IOSize'])\n",
    "counter = 0\n",
    "# READ each line of the trace\n",
    "for index, row in trace.iterrows():\n",
    "    converted_list = []\n",
    "    # IOSize to sector number and save it to the new trace\n",
    "    sector_number = row['IOSize'] // 512\n",
    "    # add a sector in replace of io size\n",
    "    converted_list.append(row['ByteOffset'])\n",
    "    converted_list.append(sector_number)\n",
    "    converted_trace.loc[counter] = converted_list\n",
    "    counter += 1\n",
    "    if counter % 100000 == 0:\n",
    "        print(counter)\n",
    "    if counter > 1600000:\n",
    "        break\n",
    "    \n",
    "print(converted_trace.head())\n",
    "\n",
    "    \n"
   ]
  },
  {
   "cell_type": "code",
   "execution_count": 10,
   "metadata": {},
   "outputs": [],
   "source": [
    "# Save the converted trace\n",
    "converted_trace.to_csv('../../real_data/trace/W2K8.TPCC.10-19-2007.12-51-PM.trace-filtered-target-converted.txt', sep=' ', index=False)"
   ]
  },
  {
   "cell_type": "code",
   "execution_count": null,
   "metadata": {},
   "outputs": [],
   "source": []
  }
 ],
 "metadata": {
  "kernelspec": {
   "display_name": "Python 3",
   "language": "python",
   "name": "python3"
  },
  "language_info": {
   "codemirror_mode": {
    "name": "ipython",
    "version": 3
   },
   "file_extension": ".py",
   "mimetype": "text/x-python",
   "name": "python",
   "nbconvert_exporter": "python",
   "pygments_lexer": "ipython3",
   "version": "3.8.10"
  }
 },
 "nbformat": 4,
 "nbformat_minor": 2
}
