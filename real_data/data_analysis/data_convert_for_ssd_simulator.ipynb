{
 "cells": [
  {
   "cell_type": "code",
   "execution_count": 21,
   "metadata": {},
   "outputs": [],
   "source": [
    "import pandas as pd\n",
    "\n",
    "file_path = '../../real_data/trace/W2K8.TPCC.10-19-2007.12-51-PM.trace-filtered-target.txt'"
   ]
  },
  {
   "cell_type": "code",
   "execution_count": 22,
   "metadata": {},
   "outputs": [
    {
     "name": "stdout",
     "output_type": "stream",
     "text": [
      "5899528\n",
      "   ByteOffset  IOSize\n",
      "0  3201773568    8192\n",
      "1  3155169280    4096\n",
      "2  3155156992    4096\n",
      "3  3161305088    8192\n",
      "4  3154132992    4096\n"
     ]
    }
   ],
   "source": [
    "#  read the file\n",
    "trace = pd.read_csv(file_path, sep=' ')\n",
    "trace.columns = ['ByteOffset', 'IOSize']\n",
    "print(len(trace))\n",
    "print(trace.head())"
   ]
  },
  {
   "cell_type": "code",
   "execution_count": null,
   "metadata": {},
   "outputs": [],
   "source": [
    "# declare dataframe variable to store converted trace\n",
    "converted_trace = pd.DataFrame(columns=['ByteOffset', 'IOSize'])\n",
    "\n",
    "# READ each line of the trace\n",
    "for index, row in trace.iterrows():\n",
    "    converted_list = []\n",
    "    number_of_lba = row['IOSize'] / 8\n",
    "    for i in range(int(number_of_lba)):\n",
    "        converted_list.append({'ByteOffset': row['ByteOffset'] + i * 8, 'IOSize': 8})\n",
    "    # converted_list to dataframe and concatenate to converted_trace\n",
    "    converted_trace = pd.concat([converted_trace, pd.DataFrame(converted_list)], ignore_index=True)\n",
    "converted_trace.columns = ['ByteOffset', 'IOSize']\n",
    "print(len(converted_trace))\n"
   ]
  },
  {
   "cell_type": "code",
   "execution_count": null,
   "metadata": {},
   "outputs": [],
   "source": []
  }
 ],
 "metadata": {
  "kernelspec": {
   "display_name": "Python 3",
   "language": "python",
   "name": "python3"
  },
  "language_info": {
   "codemirror_mode": {
    "name": "ipython",
    "version": 3
   },
   "file_extension": ".py",
   "mimetype": "text/x-python",
   "name": "python",
   "nbconvert_exporter": "python",
   "pygments_lexer": "ipython3",
   "version": "3.8.10"
  }
 },
 "nbformat": 4,
 "nbformat_minor": 2
}
